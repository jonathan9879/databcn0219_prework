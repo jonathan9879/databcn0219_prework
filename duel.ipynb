{
 "cells": [
  {
   "cell_type": "markdown",
   "metadata": {},
   "source": [
    "# Duel of sorcerers\n",
    "You are witnessing an epic battle between two powerful sorcerers: Gandalf and Saruman. Each sorcerer has 10 spells of variable power in their mind and they are going to throw them one after the other. The winner of the duel will be the one who wins more of those clashes between spells. Spells are represented as a list of 10 integers whose value equals the power of the spell.\n",
    "```\n",
    "gandalf = [10, 11, 13, 30, 22, 11, 10, 33, 22, 22]\n",
    "saruman = [23, 66, 12, 43, 12, 10, 44, 23, 12, 17]\n",
    "```\n",
    "For example:\n",
    "1. The first clash is won by Saruman: 10 against 23, wins 23\n",
    "2. The second clash wins Saruman: 11 against 66, wins 66\n",
    "3. etc.\n",
    "\n",
    "\n",
    "You will create two variables, one for each sorcerer, where the sum of clashes won will be stored. Depending on which variable is greater at the end of the duel, you will show one of the following three results on the screen:\n",
    "* Gandalf wins\n",
    "* Saruman wins\n",
    "* Tie\n",
    "\n",
    "<img src=\"images/content_lightning_bolt_big.jpg\" width=\"400\">"
   ]
  },
  {
   "cell_type": "markdown",
   "metadata": {},
   "source": [
    "## Solution"
   ]
  },
  {
   "cell_type": "code",
   "execution_count": 26,
   "metadata": {},
   "outputs": [],
   "source": [
    "# Assign spell power lists to variables\n",
    "\n",
    "gandalf = [10, 11, 13, 30, 22, 11, 10, 33, 22, 22]\n",
    "saruman = [23, 66, 12, 43, 12, 10, 44, 23, 12, 17]"
   ]
  },
  {
   "cell_type": "code",
   "execution_count": 27,
   "metadata": {},
   "outputs": [],
   "source": [
    "# Assign 0 to each variable that stores the victories\n",
    "gandalf_victories = 0\n",
    "saruman_victories = 0"
   ]
  },
  {
   "cell_type": "code",
   "execution_count": 28,
   "metadata": {},
   "outputs": [],
   "source": [
    "# Execution of spell clashes\n",
    "for i in range(len(gandalf)):\n",
    "    spell_gandalf = gandalf[i]\n",
    "    spell_saruman = saruman[i]\n",
    "    if spell_gandalf > spell_saruman:\n",
    "        gandalf_victories += 1\n",
    "    elif spell_saruman > spell_gandalf:\n",
    "        saruman_victories += 1"
   ]
  },
  {
   "cell_type": "code",
   "execution_count": 29,
   "metadata": {},
   "outputs": [
    {
     "name": "stdout",
     "output_type": "stream",
     "text": [
      "Gandalf wins\n"
     ]
    }
   ],
   "source": [
    "# We check who has won, do not forget the possibility of a draw.\n",
    "# Print the result based on the winner.\n",
    "if(gandalf_victories > saruman_victories):\n",
    "    print('Gandalf wins')\n",
    "elif(saruman_victories > gandalf_victories):\n",
    "    print('Saruman wins')\n",
    "else:\n",
    "    print('Tie')\n"
   ]
  },
  {
   "cell_type": "markdown",
   "metadata": {},
   "source": [
    "## Goals\n",
    "\n",
    "1. Treatment of lists\n",
    "2. Use of **for loop**\n",
    "3. Use of conditional **if-elif-else**\n",
    "4. Use of the functions **range(), len()**\n",
    "5. Print"
   ]
  },
  {
   "cell_type": "markdown",
   "metadata": {},
   "source": [
    "## Bonus\n",
    "\n",
    "1. Spells now have a name and there is a dictionary that relates that name to a power.\n",
    "2. A sorcerer wins if he succeeds in winning 3 spell clashes in a row.\n",
    "3. Average of each of the spell lists.\n",
    "4. Standard deviation of each of the spell lists.\n",
    "\n",
    "```\n",
    "POWER = {\n",
    "    'Fireball': 50, \n",
    "    'Lightning bolt': 40, \n",
    "    'Magic arrow': 10, \n",
    "    'Black Tentacles': 25, \n",
    "    'Contagion': 45\n",
    "}\n",
    "\n",
    "gandalf = ['Fireball', 'Lightning bolt', 'Lightning bolt', 'Magic arrow', 'Fireball', \n",
    "           'Magic arrow', 'Lightning bolt', 'Fireball', 'Fireball', 'Fireball']\n",
    "saruman = ['Contagion', 'Contagion', 'Black Tentacles', 'Fireball', 'Black Tentacles', \n",
    "           'Lightning bolt', 'Magic arrow', 'Contagion', 'Magic arrow', 'Magic arrow']\n",
    "```\n",
    "\n",
    "Good luck!"
   ]
  },
  {
   "cell_type": "code",
   "execution_count": 30,
   "metadata": {},
   "outputs": [],
   "source": [
    "# 1. Spells now have a name and there is a dictionary that relates that name to a power.\n",
    "# variables\n",
    "\n",
    "POWER = {\n",
    "    'Fireball': 50, \n",
    "    'Lightning bolt': 40, \n",
    "    'Magic arrow': 10, \n",
    "    'Black Tentacles': 25, \n",
    "    'Contagion': 45\n",
    "}\n",
    "\n",
    "# Assign spell power lists to variables\n",
    "gandalf = ['Fireball', 'Lightning bolt', 'Lightning bolt', 'Magic arrow', 'Fireball', \n",
    "           'Magic arrow', 'Lightning bolt', 'Fireball', 'Magic arrow', 'Fireball']\n",
    "saruman = ['Contagion', 'Contagion', 'Black Tentacles', 'Fireball', 'Black Tentacles', \n",
    "           'Lightning bolt', 'Magic arrow', 'Contagion', 'Magic arrow', 'Magic arrow']"
   ]
  },
  {
   "cell_type": "code",
   "execution_count": null,
   "metadata": {},
   "outputs": [],
   "source": [
    "\n",
    "\n"
   ]
  },
  {
   "cell_type": "code",
   "execution_count": 31,
   "metadata": {},
   "outputs": [
    {
     "name": "stdout",
     "output_type": "stream",
     "text": [
      "List of Winners:\n",
      "Gandalf\n"
     ]
    }
   ],
   "source": [
    "# 2. A sorcerer wins if he succeeds in winning 3 spell clashes in a row.\n",
    "# We set counters for how many wins in a row each sorcerer has\n",
    "gandalf_wins_in_a_row = 0\n",
    "saruman_wins_in_a_row = 0\n",
    "\n",
    "# We set booleans to remember who has won\n",
    "gandalf_is_winner = False\n",
    "saruman_is_winner = False\n",
    "\n",
    "# Execution of spell clashes\n",
    "for i in range(len(gandalf)):\n",
    "    # We check the power of their spells\n",
    "    gandalf_power = POWER[gandalf[i]]\n",
    "    saruman_power = POWER[saruman[i]]\n",
    "    \n",
    "    # We compare them to check who is the winner and count it\n",
    "    if(gandalf_power > saruman_power):\n",
    "        gandalf_wins_in_a_row += 1\n",
    "        saruman_wins_in_a_row = 0\n",
    "        \n",
    "    elif(gandalf_power < saruman_power):\n",
    "        saruman_wins_in_a_row += 1\n",
    "        gandalf_wins_in_a_row = 0\n",
    "    \n",
    "    # We check if we have a winner\n",
    "    if(gandalf_wins_in_a_row == 3):\n",
    "        gandalf_is_winner = True\n",
    "    elif(saruman_wins_in_a_row == 3):\n",
    "        saruman_is_winner = True\n",
    "\n",
    "\n",
    "# check the winner\n",
    "print('List of Winners:')\n",
    "if(saruman_is_winner): \n",
    "    print('Saruman')\n",
    "if(gandalf_is_winner):\n",
    "    print('Gandalf')\n",
    "elif(not(saruman_is_winner)):\n",
    "    print('Nobody')"
   ]
  },
  {
   "cell_type": "code",
   "execution_count": 32,
   "metadata": {},
   "outputs": [
    {
     "name": "stdout",
     "output_type": "stream",
     "text": [
      "Average for Gandalf:  35.0\n",
      "Average for Saruman:  30.5\n"
     ]
    }
   ],
   "source": [
    "# 3. Average of each of the spell lists.\n",
    "sum_of_spells_gandalf = 0\n",
    "sum_of_spells_saruman = 0\n",
    "\n",
    "number_of_spells = len(gandalf)\n",
    "for i in range(number_of_spells):\n",
    "    sum_of_spells_gandalf += POWER[gandalf[i]]\n",
    "    sum_of_spells_saruman += POWER[saruman[i]]\n",
    "    \n",
    "average_gandalf = sum_of_spells_gandalf / number_of_spells \n",
    "average_saruman = sum_of_spells_saruman / number_of_spells\n",
    "\n",
    "print('Average for Gandalf: ', average_gandalf)\n",
    "print('Average for Saruman: ', average_saruman)"
   ]
  },
  {
   "cell_type": "code",
   "execution_count": 35,
   "metadata": {},
   "outputs": [
    {
     "name": "stdout",
     "output_type": "stream",
     "text": [
      "The standard deviation of Gandalf is:  17.795130420052185\n",
      "The standard deviation of Saruman is:  17.795130420052185\n"
     ]
    }
   ],
   "source": [
    "# 4. Standard deviation of each of the spell lists.\n",
    "sum_of_squares_gandalf = 0\n",
    "sum_of_squares_saruman = 0\n",
    "\n",
    "# We calculate the distance between the average and each data point and sum the squares\n",
    "for i in range(number_of_spells):\n",
    "    sum_of_squares_gandalf += (POWER[gandalf[i]] - average_gandalf)**2\n",
    "    sum_of_squares_saruman += (POWER[saruman[i]] - average_saruman)**2\n",
    "\n",
    "# Then we divide by the number of data points minus one and do the square root\n",
    "std_deviation_gandalf = (sum_of_squares_gandalf / (number_of_spells - 1))**0.5\n",
    "std_deviation_saruman = (sum_of_squares_saruman / (number_of_spells - 1))**0.5\n",
    "\n",
    "print('The standard deviation of Gandalf is: ', std_deviation_gandalf)\n",
    "print('The standard deviation of Saruman is: ', std_deviation_gandalf)\n"
   ]
  },
  {
   "cell_type": "code",
   "execution_count": null,
   "metadata": {},
   "outputs": [],
   "source": []
  }
 ],
 "metadata": {
  "kernelspec": {
   "display_name": "Python 3",
   "language": "python",
   "name": "python3"
  },
  "language_info": {
   "codemirror_mode": {
    "name": "ipython",
    "version": 3
   },
   "file_extension": ".py",
   "mimetype": "text/x-python",
   "name": "python",
   "nbconvert_exporter": "python",
   "pygments_lexer": "ipython3",
   "version": "3.7.2"
  }
 },
 "nbformat": 4,
 "nbformat_minor": 2
}
