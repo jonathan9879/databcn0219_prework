{
 "cells": [
  {
   "cell_type": "markdown",
   "metadata": {},
   "source": [
    "# Snail and well\n",
    "\n",
    "A snail falls at the bottom of a 125 cm well. Each day the snail rises 30 cm. But at night, while sleeping, slides 20 cm because the walls are wet. How many days does it take to escape from the well?\n",
    "\n",
    "TIP: http://puzzles.nigelcoldwell.co.uk/sixtytwo.htm"
   ]
  },
  {
   "cell_type": "markdown",
   "metadata": {},
   "source": [
    "## Solución"
   ]
  },
  {
   "cell_type": "code",
   "execution_count": 17,
   "metadata": {},
   "outputs": [
    {
     "name": "stdout",
     "output_type": "stream",
     "text": [
      "Days = 11\n"
     ]
    }
   ],
   "source": [
    "# Assign problem data to variables with representative names\n",
    "# well height, daily advance, night retreat, accumulated distance\n",
    "well_height = 125\n",
    "daily_advance = 30\n",
    "night_retreat = 20\n",
    "accumulated_distance = 0\n",
    "\n",
    "# Assign 0 to the variable that represents the solution\n",
    "days = 0\n",
    "\n",
    "# Write the code that solves the problem\n",
    "while(accumulated_distance < well_height): # While the snail hasn't arrived\n",
    "    # A new day starts\n",
    "    days += 1\n",
    "    # Snail advances\n",
    "    accumulated_distance += daily_advance\n",
    "    # If the snail hasn't arrived, sleep/retreat\n",
    "    if(accumulated_distance < well_height): \n",
    "        accumulated_distance -= night_retreat \n",
    "    # If the snail has arrived, finish\n",
    "    else: \n",
    "        break \n",
    "\n",
    "# Print the result with print('Days =', days)\n",
    "print('Days =', days)"
   ]
  },
  {
   "cell_type": "markdown",
   "metadata": {},
   "source": [
    "## Goals\n",
    "\n",
    "1. Treatment of variables\n",
    "2. Use of loop **while**\n",
    "3. Use of conditional **if-else**\n",
    "4. Print in console"
   ]
  },
  {
   "cell_type": "markdown",
   "metadata": {},
   "source": [
    "## Bonus\n",
    "The distance traveled by the snail is now defined by a list.\n",
    "```\n",
    "advance_cm = [30, 21, 33, 77, 44, 45, 23, 45, 12, 34, 55]\n",
    "```\n",
    "How long does it take to raise the well?\n",
    "\n",
    "What is its maximum displacement in one day? And its minimum?\n",
    "\n",
    "What is its average speed during the day?\n",
    "\n",
    "What is the standard deviation of its displacement during the day?"
   ]
  },
  {
   "cell_type": "code",
   "execution_count": 18,
   "metadata": {},
   "outputs": [
    {
     "name": "stdout",
     "output_type": "stream",
     "text": [
      "Days = 5\n",
      "Maximum displacement = 77\n",
      "Minimum displacement = 12\n",
      "Average progress = 38.0909\n",
      "Standard deviation = 17.997\n"
     ]
    }
   ],
   "source": [
    "# Assign problem data to variables with representative names\n",
    "# well height, daily advance, night retreat, accumulated distance\n",
    "well_height = 125\n",
    "daily_advance = [30, 21, 33, 77, 44, 45, 23, 45, 12, 34, 55]\n",
    "night_retreat = 20\n",
    "accumulated_distance = 0\n",
    "\n",
    "\n",
    "# Assign 0 to the variable that represents the solution\n",
    "days = 0\n",
    "\n",
    "# Write the code that solves the problem\n",
    "while(accumulated_distance < well_height):\n",
    "    # A new day starts\n",
    "    days += 1\n",
    "    # Snails advances\n",
    "    accumulated_distance += daily_advance[days-1]\n",
    "    #If the snail hasn't arrived, sleep/retreat\n",
    "    if(accumulated_distance < well_height):\n",
    "        accumulated_distance -= night_retreat\n",
    "    #If the snail has arrived, finish\n",
    "    else:\n",
    "        break\n",
    "\n",
    "\n",
    "# Print the result with print('Days =', days)\n",
    "print('Days =', days)\n",
    "\n",
    "# What is its maximum displacement in a day? And its minimum?\n",
    "print('Maximum displacement =', max(daily_advance))\n",
    "print('Minimum displacement =', min(daily_advance))\n",
    "\n",
    "# What is its average progress?\n",
    "average = sum(daily_advance)/len(daily_advance)\n",
    "print('Average progress =', round(average, 4))\n",
    "\n",
    "# What is the standard deviation of your displacement during the day?\n",
    "\n",
    "# For each data point, we find the square of its distance to the mean and sum the values\n",
    "sum_of_squares = 0\n",
    "for n in daily_advance:\n",
    "    sum_of_squares += (n - average) ** 2\n",
    "# Then we divide by the number of data points minus 1 and do the square root\n",
    "std_deviation = (sum_of_squares / (len(daily_advance) - 1))**0.5\n",
    "\n",
    "print('Standard deviation =', round(std_deviation, 4))\n"
   ]
  },
  {
   "cell_type": "code",
   "execution_count": null,
   "metadata": {},
   "outputs": [],
   "source": []
  }
 ],
 "metadata": {
  "kernelspec": {
   "display_name": "Python 3",
   "language": "python",
   "name": "python3"
  },
  "language_info": {
   "codemirror_mode": {
    "name": "ipython",
    "version": 3
   },
   "file_extension": ".py",
   "mimetype": "text/x-python",
   "name": "python",
   "nbconvert_exporter": "python",
   "pygments_lexer": "ipython3",
   "version": "3.7.2"
  }
 },
 "nbformat": 4,
 "nbformat_minor": 2
}
