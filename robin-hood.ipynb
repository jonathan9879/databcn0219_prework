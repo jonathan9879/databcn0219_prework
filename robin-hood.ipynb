{
 "cells": [
  {
   "cell_type": "markdown",
   "metadata": {},
   "source": [
    "# Robin Hood:\n",
    "We are in a competition to win the archery contest in Sherwood. With our bow and arrows we shoot on a target and try to hit as close as possible to the center.\n",
    "\n",
    "The center of the target is represented by the values (0, 0) on the coordinate axes.\n",
    "\n",
    "![](images/arrows.jpg)\n",
    "\n",
    "## Goals:\n",
    "* data structures: lists, sets, tuples\n",
    "* logical operators: if-elif-else\n",
    "* loop: while/for\n",
    "* minimum (optional sorting)\n",
    "\n",
    "## Description:\n",
    "In the 2-dimensional space, a point can be defined by a pair of values that correspond to the horizontal coordinate (x) and the vertical coordinate (y). The space can be divided into 4 zones (quadrants): Q1, Q2, Q3, Q4. Whose single point of union is the point (0, 0).\n",
    "\n",
    "If a point is in Q1 both its x coordinate and the y are positive. I leave a link to wikipedia to familiarize yourself with these quadrants.\n",
    "\n",
    "https://en.wikipedia.org/wiki/Cartesian_coordinate_system\n",
    "\n",
    "https://en.wikipedia.org/wiki/Euclidean_distance\n",
    "\n",
    "## Shots\n",
    "```\n",
    "points = [(4, 5), (-0, 2), (4, 7), (1, -3), (3, -2), (4, 5),\n",
    "          (3, 2), (5, 7), (-5, 7), (2, 2), (-4, 5), (0, -2),\n",
    "          (-4, 7), (-1, 3), (-3, 2), (-4, -5), (-3, 2),\n",
    "          (5, 7), (5, 7), (2, 2), (9, 9), (-8, -9)]\n",
    "```\n",
    "\n",
    "## Tasks\n",
    "1. Robin Hood is famous for hitting an arrow with another arrow. Did you get it?\n",
    "2. Calculate how many arrows have fallen in each quadrant.\n",
    "3. Find the point closest to the center. Calculate its distance to the center. \n",
    "4. If the target has a radius of 9, calculate the number of arrows that must be picked up in the forest."
   ]
  },
  {
   "cell_type": "code",
   "execution_count": 1,
   "metadata": {},
   "outputs": [],
   "source": [
    "# Variables\n",
    "\n",
    "points = [(4, 5), (-0, 2), (4, 7), (1, -3), (3, -2), (4, 5),\n",
    "          (3, 2), (5, 7), (-5, 7), (2, 2), (-4, 5), (0, -2),\n",
    "          (-4, 7), (-1, 3), (-3, 2), (-4, -5), (-3, 2),\n",
    "          (5, 7), (5, 7), (2, 2), (9, 9), (-8, -9)]"
   ]
  },
  {
   "cell_type": "code",
   "execution_count": 2,
   "metadata": {},
   "outputs": [
    {
     "name": "stdout",
     "output_type": "stream",
     "text": [
      "Yes!\n"
     ]
    }
   ],
   "source": [
    "# 1. Robin Hood is famous for hitting an arrow with another arrow. Did you get it?\n",
    "double_arrow = False\n",
    "for i in range(len(points)-1):\n",
    "    if points[i] == points[i+1]:\n",
    "        double_arrow = True\n",
    "    \n",
    "if(double_arrow == False):\n",
    "    print('No :/')\n",
    "else:\n",
    "    print('Yes!')\n",
    "    "
   ]
  },
  {
   "cell_type": "code",
   "execution_count": 7,
   "metadata": {},
   "outputs": [
    {
     "name": "stdout",
     "output_type": "stream",
     "text": [
      "In quadrant 1, 10 arrows have fallen.\n",
      "In quadrant 2, 6 arrows have fallen.\n",
      "In quadrant 3, 2 arrows have fallen.\n",
      "In quadrant 4, 2 arrows have fallen.\n"
     ]
    }
   ],
   "source": [
    "# 2. Calculate how many arrows have fallen in each quadrant.\n",
    "quadrant_1 = 0\n",
    "quadrant_2 = 0\n",
    "quadrant_3 = 0\n",
    "quadrant_4 = 0\n",
    "\n",
    "for i in range(len(points)):\n",
    "    x = points[i][0]\n",
    "    y = points[i][1]\n",
    "    if(x > 0): # if x is positive...\n",
    "        if(y > 0): # and y is positive\n",
    "            quadrant_1 += 1\n",
    "        elif(y < 0): # and y is negative\n",
    "            quadrant_4 += 1\n",
    "    elif(x < 0): # if x is negative ...\n",
    "        if(y > 0): # and y is positive\n",
    "            quadrant_2 += 1\n",
    "        elif(y < 0): # and y is negative\n",
    "            quadrant_3 += 1\n",
    "\n",
    "print('In quadrant 1, ' + str(quadrant_1) + ' arrows have fallen.')\n",
    "print('In quadrant 2, ' + str(quadrant_2) + ' arrows have fallen.') \n",
    "print('In quadrant 3, ' + str(quadrant_3) + ' arrows have fallen.') \n",
    "print('In quadrant 4, ' + str(quadrant_4) + ' arrows have fallen.') \n",
    "        \n"
   ]
  },
  {
   "cell_type": "code",
   "execution_count": 11,
   "metadata": {},
   "outputs": [
    {
     "name": "stdout",
     "output_type": "stream",
     "text": [
      "The point closest to the center is (0, 2) with a distance of 2.0\n"
     ]
    }
   ],
   "source": [
    "# 3. Find the point closest to the center. Calculate its distance to the center\n",
    "# Defining a function that calculates the distance to the center can help.\n",
    "def distance (point_1): # We only need one parameter because the second point is always (0,0)\n",
    "    point_2 = (0, 0)\n",
    "    distance = ((point_2[0] - point_1[0])**2 + (point_2[1] - point_1[1])**2)**0.5\n",
    "    return distance\n",
    "\n",
    "# We start assuming the first point is the closest\n",
    "closest_point = points[0]\n",
    "closest_distance = distance(points[0]) # We save the distance to compare in the loop\n",
    "\n",
    "for i in range(len(points) - 1): # We compare the closest point we have to a new point until we have compared all points\n",
    "    new_distance = distance(points[i+1])\n",
    "    if new_distance < closest_distance: # If the new distance is smaller than the smallest found, save \n",
    "        closest_distance = new_distance\n",
    "        closest_point = points[i+1] # We save the point too so we know which is the closest\n",
    "    \n",
    "print('The point closest to the center is ' + str(closest_point) + ' with a distance of ' + str(closest_distance))"
   ]
  },
  {
   "cell_type": "code",
   "execution_count": 12,
   "metadata": {},
   "outputs": [
    {
     "name": "stdout",
     "output_type": "stream",
     "text": [
      "2 arrows must be picked in the forest!\n"
     ]
    }
   ],
   "source": [
    "# 4. If the target has a radius of 9, calculate the number of arrows that \n",
    "# must be picked up in the forest.\n",
    "arrows_in_forest = 0\n",
    "\n",
    "for i in range(len(points)):\n",
    "    if distance(points[i]) > 9:\n",
    "        arrows_in_forest += 1\n",
    "\n",
    "print(str(arrows_in_forest) + ' arrows must be picked in the forest!')"
   ]
  },
  {
   "cell_type": "code",
   "execution_count": null,
   "metadata": {},
   "outputs": [],
   "source": []
  }
 ],
 "metadata": {
  "kernelspec": {
   "display_name": "Python 3",
   "language": "python",
   "name": "python3"
  },
  "language_info": {
   "codemirror_mode": {
    "name": "ipython",
    "version": 3
   },
   "file_extension": ".py",
   "mimetype": "text/x-python",
   "name": "python",
   "nbconvert_exporter": "python",
   "pygments_lexer": "ipython3",
   "version": "3.7.2"
  }
 },
 "nbformat": 4,
 "nbformat_minor": 2
}
